{
 "cells": [
  {
   "cell_type": "markdown",
   "id": "29b11ae5-33ef-4267-8162-fa8ba1e33f8d",
   "metadata": {},
   "source": [
    "# Simple Chunking"
   ]
  },
  {
   "cell_type": "code",
   "execution_count": 1,
   "id": "27d88063-181a-4c84-a759-0a682bf30370",
   "metadata": {},
   "outputs": [],
   "source": [
    "import os"
   ]
  },
  {
   "cell_type": "code",
   "execution_count": 2,
   "id": "a9177eb5-73db-4b6d-a461-960b2967af68",
   "metadata": {},
   "outputs": [],
   "source": [
    "def simple_chunk_document(document, chunk_size):\n",
    "    chunks = []\n",
    "    words = document.split()  # Tokenize document into words\n",
    "    for i in range(0, len(words), chunk_size):\n",
    "        chunk = ' '.join(words[i:i + chunk_size])\n",
    "        chunks.append(chunk)\n",
    "    return chunks\n",
    "\n",
    "def simple_chunk_files(input_folder, output_folder, chunk_size):\n",
    "    # Create output folder if it doesn't exist\n",
    "    if not os.path.exists(output_folder):\n",
    "        os.makedirs(output_folder)\n",
    "\n",
    "    # Process each file in the input folder\n",
    "    for filename in os.listdir(input_folder):\n",
    "        input_file_path = os.path.join(input_folder, filename)\n",
    "        if os.path.isfile(input_file_path):\n",
    "            # Read file content\n",
    "            with open(input_file_path, 'r', encoding='utf-8-sig') as file:\n",
    "                document = file.read()\n",
    "\n",
    "            # Get chunks for the document\n",
    "            chunks = simple_chunk_document(document, chunk_size)\n",
    "\n",
    "            # Write chunks to output file\n",
    "            output_file_path = os.path.join(output_folder, f'{os.path.splitext(filename)[0]}_simple_chunk.txt')\n",
    "            with open(output_file_path, 'w', encoding='utf-8-sig') as file:\n",
    "                file.write(str(chunks))\n",
    "\n",
    "    print(\"Chunking completed. Chunks stored in\", output_folder)"
   ]
  },
  {
   "cell_type": "code",
   "execution_count": 3,
   "id": "cd41d9c3-6e20-4418-8138-e256a83a433b",
   "metadata": {},
   "outputs": [],
   "source": [
    "# Change this to the path of your input folder\n",
    "input_folder = r\"C:\\Users\\adykh\\Desktop\\subs_db\\subtitles\\subtitle_demo\\cleaned_subtitle_demo\"\n",
    "# Change this to the path of your output folder\n",
    "output_folder = r\"C:\\Users\\adykh\\Desktop\\subs_db\\subtitles\\subtitle_demo\\simple_chunks\" "
   ]
  },
  {
   "cell_type": "code",
   "execution_count": 77,
   "id": "2d2e2f3b-6ec2-4fcc-a6dd-5fd2deec1718",
   "metadata": {},
   "outputs": [],
   "source": [
    "chunk_size = 10  # Change this to your desired chunk size"
   ]
  },
  {
   "cell_type": "code",
   "execution_count": 78,
   "id": "8d7ceb38-c8e9-4679-ba47-0934bb0e8aac",
   "metadata": {},
   "outputs": [
    {
     "name": "stdout",
     "output_type": "stream",
     "text": [
      "Chunking completed. Chunks stored in C:\\Users\\adykh\\Desktop\\subs_db\\subtitles\\subtitles_demo\\simple_chunks\n"
     ]
    }
   ],
   "source": [
    "simple_chunk_files(input_folder, output_folder, chunk_size)"
   ]
  },
  {
   "cell_type": "markdown",
   "id": "d6029d73-4f9d-4a72-b6c9-fe5f3d3fe700",
   "metadata": {},
   "source": [
    "# Overlapping Chunks"
   ]
  },
  {
   "cell_type": "code",
   "execution_count": 73,
   "id": "75a930bf-ef3d-453f-a7b0-e7400a51eee4",
   "metadata": {},
   "outputs": [],
   "source": [
    "def overlapping_chunk_document(document, chunk_size=500, overlap=100):\n",
    "    chunks = []\n",
    "    words = document.split()\n",
    "    start_idx = 0\n",
    "    end_idx = min(chunk_size, len(words))\n",
    "\n",
    "    while start_idx < len(words):\n",
    "        chunk = ' '.join(words[start_idx:end_idx])\n",
    "        chunks.append(chunk)\n",
    "        start_idx += chunk_size - overlap\n",
    "        end_idx = min(start_idx + chunk_size, len(words))\n",
    "    return chunks\n",
    "\n",
    "def overlap_chunk_files(input_folder, output_folder, chunk_size, overlap):\n",
    "    # Create output folder if it doesn't exist\n",
    "    if not os.path.exists(output_folder):\n",
    "        os.makedirs(output_folder)\n",
    "\n",
    "    # Process each file in the input folder\n",
    "    for filename in os.listdir(input_folder):\n",
    "        input_file_path = os.path.join(input_folder, filename)\n",
    "        if os.path.isfile(input_file_path):\n",
    "            # Read file content\n",
    "            with open(input_file_path, 'r', encoding='utf-8-sig') as file:\n",
    "                document = file.read()\n",
    "\n",
    "            # Get chunks for the document\n",
    "            chunks = overlapping_chunk_document(document, chunk_size, overlap)\n",
    "\n",
    "            # Write chunks to output file\n",
    "            output_file_path = os.path.join(output_folder, f'{os.path.splitext(filename)[0]}_overlapping_chunk.txt')\n",
    "            with open(output_file_path, 'w', encoding='utf-8-sig') as file:\n",
    "                file.write(str(chunks))\n",
    "\n",
    "    print(\"Chunking completed. Chunks stored in\", output_folder)"
   ]
  },
  {
   "cell_type": "code",
   "execution_count": 62,
   "id": "792f3856-a127-4033-81ff-b1ed0096533c",
   "metadata": {},
   "outputs": [],
   "source": [
    "# Change this to the path of your input folder\n",
    "input_folder = r\"C:\\Users\\adykh\\Desktop\\subs_db\\subtitles\\subtitle_demo\\cleaned_subtitle_demo\"\n",
    "# Change this to the path of your output folder\n",
    "output_folder = r\"C:\\Users\\adykh\\Desktop\\subs_db\\subtitles\\subtitle_demo\\overlapping_chunks\" "
   ]
  },
  {
   "cell_type": "code",
   "execution_count": null,
   "id": "56d7d0c5-f97a-43f2-9090-3602ad7f0c1e",
   "metadata": {},
   "outputs": [],
   "source": []
  },
  {
   "cell_type": "code",
   "execution_count": 63,
   "id": "f3ee35ca-1076-4cff-8cc5-dfc021f2e27c",
   "metadata": {},
   "outputs": [],
   "source": [
    "chunk_size = 10  # Change this to your desired chunk size\n",
    "overlap = 3  # Change this to your desired overlap size"
   ]
  },
  {
   "cell_type": "code",
   "execution_count": 74,
   "id": "19c779bf-0dfa-458e-b380-78aaeb92f796",
   "metadata": {},
   "outputs": [
    {
     "name": "stdout",
     "output_type": "stream",
     "text": [
      "Chunking completed. Chunks stored in C:\\Users\\adykh\\Desktop\\subs_db\\subtitles\\subtitles_demo\\overlapping_chunks\n"
     ]
    }
   ],
   "source": [
    "overlap_chunk_files(input_folder, output_folder, chunk_size, overlap)"
   ]
  },
  {
   "cell_type": "code",
   "execution_count": null,
   "id": "7478b9a5-5a79-44d4-ad49-64c2bede37ec",
   "metadata": {},
   "outputs": [],
   "source": []
  },
  {
   "cell_type": "code",
   "execution_count": null,
   "id": "5cfce8bd-b8ae-40bc-af18-880b6343a15f",
   "metadata": {},
   "outputs": [],
   "source": []
  },
  {
   "cell_type": "code",
   "execution_count": null,
   "id": "f98b0d65-9ebe-40e7-80d2-237526c1fd31",
   "metadata": {},
   "outputs": [],
   "source": []
  }
 ],
 "metadata": {
  "kernelspec": {
   "display_name": "Python 3 (ipykernel)",
   "language": "python",
   "name": "python3"
  },
  "language_info": {
   "codemirror_mode": {
    "name": "ipython",
    "version": 3
   },
   "file_extension": ".py",
   "mimetype": "text/x-python",
   "name": "python",
   "nbconvert_exporter": "python",
   "pygments_lexer": "ipython3",
   "version": "3.12.2"
  }
 },
 "nbformat": 4,
 "nbformat_minor": 5
}
