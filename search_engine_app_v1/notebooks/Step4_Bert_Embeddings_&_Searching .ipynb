{
 "cells": [
  {
   "cell_type": "code",
   "execution_count": 1,
   "id": "2e1457a8-936e-4f27-b52a-749eabf75710",
   "metadata": {},
   "outputs": [],
   "source": [
    "import os\n",
    "import numpy as np\n",
    "from sentence_transformers import SentenceTransformer\n",
    "from sklearn.metrics.pairwise import cosine_similarity"
   ]
  },
  {
   "cell_type": "code",
   "execution_count": 2,
   "id": "e92a9fa2-2b26-4e05-878e-3c1f47cba955",
   "metadata": {},
   "outputs": [],
   "source": [
    "# Load the MiniLM-L6-v2 model\n",
    "model = SentenceTransformer('all-MiniLM-L6-v2')"
   ]
  },
  {
   "cell_type": "code",
   "execution_count": 3,
   "id": "1f3424c8-4683-43e0-bc81-b19dee9de60d",
   "metadata": {},
   "outputs": [],
   "source": [
    "def encode_chunks(chunks):\n",
    "    # Encode each chunk using the Sentence Transformer model\n",
    "    chunk_embeddings = model.encode(chunks)\n",
    "    return chunk_embeddings"
   ]
  },
  {
   "cell_type": "code",
   "execution_count": 4,
   "id": "2c6d1a7b-e8f1-4661-ac59-4b6d8f202b09",
   "metadata": {},
   "outputs": [],
   "source": [
    "def cosine_similarity_search(query_embedding, chunk_embeddings, chunk_texts):\n",
    "    # Calculate cosine similarity between query embedding and chunk embeddings\n",
    "    similarities = cosine_similarity([query_embedding], chunk_embeddings)[0]\n",
    "    # Sort the similarities in descending order\n",
    "    sorted_indices = np.argsort(similarities)[::-1]\n",
    "    # Return sorted chunk texts, similarities, and corresponding file names\n",
    "    sorted_chunk_texts = [chunk_texts[i] for i in sorted_indices]\n",
    "    sorted_similarities = [similarities[i] for i in sorted_indices]\n",
    "    return sorted_chunk_texts, sorted_similarities, sorted_indices"
   ]
  },
  {
   "cell_type": "code",
   "execution_count": 5,
   "id": "9b5a328a-5621-49d7-a384-0db0a57fdd3a",
   "metadata": {},
   "outputs": [],
   "source": [
    "def search_engine(input_folder, query, num_chunks_per_file, top_k=5):\n",
    "    # Initialize a list to store the similarity scores for each file\n",
    "    file_similarities = []\n",
    "\n",
    "    # Process each file in the input folder\n",
    "    for filename in os.listdir(input_folder):\n",
    "        input_file_path = os.path.join(input_folder, filename)\n",
    "        if os.path.isfile(input_file_path):\n",
    "            # Read file content\n",
    "            with open(input_file_path, 'r', encoding='utf-8') as file:\n",
    "                content = file.read()\n",
    "\n",
    "            # Find the starting and ending index of the chunks\n",
    "            start_index = content.find(\"[\")\n",
    "            end_index = content.rfind(\"]\")\n",
    "\n",
    "            # Extract the chunk content\n",
    "            chunk_content = content[start_index + 1:end_index]\n",
    "\n",
    "            # Split the chunk content into individual chunks\n",
    "            chunks = [chunk.strip()[1:-1] for chunk in chunk_content.split(\",\")]\n",
    "\n",
    "            # Encode the query\n",
    "            query_embedding = model.encode([query])\n",
    "\n",
    "            # Calculate cosine similarity for each chunk\n",
    "            chunk_similarities = []\n",
    "            for chunk_text in chunks[:num_chunks_per_file]:\n",
    "                # Encode the chunk\n",
    "                chunk_embedding = model.encode([chunk_text])\n",
    "                # Calculate cosine similarity with the query embedding\n",
    "                similarity = cosine_similarity(query_embedding, chunk_embedding)[0][0]\n",
    "                chunk_similarities.append(similarity)\n",
    "\n",
    "            # Average similarity for the specified number of chunks per file\n",
    "            average_similarity = np.mean(chunk_similarities)\n",
    "\n",
    "            # Append file name and average similarity to the list\n",
    "            file_similarities.append((filename, average_similarity))\n",
    "\n",
    "    # Sort the file similarities based on average similarity in descending order\n",
    "    sorted_file_similarities = sorted(file_similarities, key=lambda x: x[1], reverse=True)\n",
    "\n",
    "    # Print top-k results\n",
    "    print(f\"Search results for '{query}':\")\n",
    "    for i in range(min(top_k, len(sorted_file_similarities))):\n",
    "        filename, average_similarity = sorted_file_similarities[i]\n",
    "        print(f\"File: {filename} - Average similarity: {average_similarity:.4f}\")\n",
    "        print()"
   ]
  },
  {
   "cell_type": "code",
   "execution_count": 6,
   "id": "b260ec7f-41eb-4da7-b9fe-78f2bfdaa40a",
   "metadata": {},
   "outputs": [],
   "source": [
    "# Example usage\n",
    "input_folder = r\"C:\\Users\\adykh\\Desktop\\subs_db\\subtitles\\subtitle_demo\\overlapping_chunks\"\n",
    "query = 'The quick brown fox jumps over the lazy dog'  # Change this to your query"
   ]
  },
  {
   "cell_type": "markdown",
   "id": "34e923c7-317a-4537-b8ff-aa2fe44f8e03",
   "metadata": {},
   "source": [
    "**Not Implemented Cleaning Function For Query, Just To See The Raw Results**"
   ]
  },
  {
   "cell_type": "code",
   "execution_count": 7,
   "id": "11f7e8f2-b5aa-4c8e-915f-b606e004a627",
   "metadata": {},
   "outputs": [],
   "source": [
    "num_chunks_per_file = 5  # Number of chunks to take from each file\n",
    "top_k = 10  # Number of top search results to display"
   ]
  },
  {
   "cell_type": "code",
   "execution_count": 8,
   "id": "9c3a7440-83cf-4de4-aef1-a3a4f1780d4f",
   "metadata": {},
   "outputs": [
    {
     "name": "stdout",
     "output_type": "stream",
     "text": [
      "Search results for 'The quick brown fox jumps over the lazy dog':\n",
      "File: a.fish.swimming.upside.down.(2020).eng.1cd_overlapping_chunk.txt - Average similarity: 0.2102\n",
      "\n",
      "File: a.herbivorous.dragon.of.5000.years.gets.unfairly.villainized.s01.e01.please.eat.me.up.great.evil.dragon.(2022).eng.1cd_overlapping_chunk.txt - Average similarity: 0.1730\n",
      "\n",
      "File: a.league.of.their.own.s01.e01.batter.up.(2022).eng.1cd_overlapping_chunk.txt - Average similarity: 0.1627\n",
      "\n",
      "File: kingslayer.(2022).eng.1cd_overlapping_chunk.txt - Average similarity: 0.1616\n",
      "\n",
      "File: a.fairly.odd.christmas.(2012).eng.1cd_overlapping_chunk.txt - Average similarity: 0.1363\n",
      "\n",
      "File: a.e.i.o.u.a.quick.alphabet.of.love.(2022).eng.1cd_overlapping_chunk.txt - Average similarity: 0.1344\n",
      "\n",
      "File: a.different.world.s06.e05.really.gross.anatomy.(1992).eng.1cd_overlapping_chunk.txt - Average similarity: 0.1250\n",
      "\n",
      "File: a.million.little.things.s05.e01.the.last.dance.(2023).eng.1cd_overlapping_chunk.txt - Average similarity: 0.0919\n",
      "\n",
      "File: abunai.deka.(1986).eng.1cd_overlapping_chunk.txt - Average similarity: 0.0911\n",
      "\n",
      "File: a.different.world.s06.e06.dont.count.your.chickens.before.theyre.axed.(1992).eng.1cd_overlapping_chunk.txt - Average similarity: 0.0895\n",
      "\n"
     ]
    }
   ],
   "source": [
    "search_engine(input_folder, query, num_chunks_per_file, top_k)"
   ]
  },
  {
   "cell_type": "code",
   "execution_count": null,
   "id": "0ba6b7bd-db28-43c4-b460-96ece1dcd095",
   "metadata": {},
   "outputs": [],
   "source": []
  },
  {
   "cell_type": "code",
   "execution_count": null,
   "id": "f9233365-343f-4b53-9a44-7d6fe77371c8",
   "metadata": {},
   "outputs": [],
   "source": []
  },
  {
   "cell_type": "code",
   "execution_count": null,
   "id": "44ad00ea-0c5c-4f1f-b0b8-b33d18da1f6b",
   "metadata": {},
   "outputs": [],
   "source": []
  },
  {
   "cell_type": "code",
   "execution_count": null,
   "id": "dca58da7-41fa-4e91-b7ff-a59b6fdbdf7d",
   "metadata": {},
   "outputs": [],
   "source": []
  },
  {
   "cell_type": "code",
   "execution_count": null,
   "id": "4769b68f-316a-4bbc-b080-5d2f9525bf95",
   "metadata": {},
   "outputs": [],
   "source": []
  },
  {
   "cell_type": "code",
   "execution_count": null,
   "id": "6ff984df-a504-4a3d-8e01-11cce2859371",
   "metadata": {},
   "outputs": [],
   "source": []
  },
  {
   "cell_type": "code",
   "execution_count": null,
   "id": "af7ffa08-53ae-484f-983a-056aec9fbaa9",
   "metadata": {},
   "outputs": [],
   "source": []
  },
  {
   "cell_type": "code",
   "execution_count": null,
   "id": "0548243d-136d-4260-877e-14534316cca8",
   "metadata": {},
   "outputs": [],
   "source": []
  },
  {
   "cell_type": "code",
   "execution_count": null,
   "id": "7197f671-bafb-4678-92fa-1f6092c1c803",
   "metadata": {},
   "outputs": [],
   "source": []
  },
  {
   "cell_type": "code",
   "execution_count": null,
   "id": "8f575d31-6d8f-4b0e-9292-18708ad75ea9",
   "metadata": {},
   "outputs": [],
   "source": []
  },
  {
   "cell_type": "code",
   "execution_count": null,
   "id": "90cabbac-da57-457a-9ab5-18d4b3a51418",
   "metadata": {},
   "outputs": [],
   "source": []
  },
  {
   "cell_type": "code",
   "execution_count": null,
   "id": "c0250394-3bf8-405a-b2fe-eed1b6605e80",
   "metadata": {},
   "outputs": [],
   "source": []
  },
  {
   "cell_type": "code",
   "execution_count": null,
   "id": "33131a0d-6682-411c-ae9b-74384afd3108",
   "metadata": {},
   "outputs": [],
   "source": []
  },
  {
   "cell_type": "code",
   "execution_count": null,
   "id": "9e95e7ad-dccd-4679-af61-9227c84bde44",
   "metadata": {},
   "outputs": [],
   "source": []
  },
  {
   "cell_type": "code",
   "execution_count": null,
   "id": "f7dedc2c-b06e-49f1-a203-0beea19573d4",
   "metadata": {},
   "outputs": [],
   "source": []
  },
  {
   "cell_type": "code",
   "execution_count": null,
   "id": "c5479bb7-f724-4d31-9d6b-c1c87351a348",
   "metadata": {},
   "outputs": [],
   "source": []
  },
  {
   "cell_type": "code",
   "execution_count": null,
   "id": "03e4b5e4-aa1f-4756-b1da-9cc3b1129591",
   "metadata": {},
   "outputs": [],
   "source": []
  },
  {
   "cell_type": "code",
   "execution_count": null,
   "id": "b5a95cd4-2ce2-4f38-8f42-56fefcf1e3df",
   "metadata": {},
   "outputs": [],
   "source": []
  },
  {
   "cell_type": "code",
   "execution_count": null,
   "id": "ccf276de-1deb-4600-8c28-4809c3a3d5a3",
   "metadata": {},
   "outputs": [],
   "source": []
  },
  {
   "cell_type": "code",
   "execution_count": null,
   "id": "e9bcfa7c-c3ed-40b9-b53b-bab53f68d4d7",
   "metadata": {},
   "outputs": [],
   "source": []
  },
  {
   "cell_type": "code",
   "execution_count": null,
   "id": "4cf54cd0-d612-42b9-b952-3f5fac7a21f9",
   "metadata": {},
   "outputs": [],
   "source": []
  },
  {
   "cell_type": "code",
   "execution_count": null,
   "id": "e0b674cc-432a-4681-b353-8305ca612229",
   "metadata": {},
   "outputs": [],
   "source": []
  },
  {
   "cell_type": "code",
   "execution_count": null,
   "id": "bf2b625c-7eed-4a8e-b8cf-4f21b12a6675",
   "metadata": {},
   "outputs": [],
   "source": []
  },
  {
   "cell_type": "code",
   "execution_count": null,
   "id": "0223e6e5-5baa-43cd-b4e2-ccf545089fde",
   "metadata": {},
   "outputs": [],
   "source": []
  },
  {
   "cell_type": "code",
   "execution_count": null,
   "id": "692ae04f-40b0-43a9-9059-26c3c8f08bf1",
   "metadata": {},
   "outputs": [],
   "source": []
  },
  {
   "cell_type": "code",
   "execution_count": null,
   "id": "e9748217-f569-4c30-a8e1-baed9a0918df",
   "metadata": {},
   "outputs": [],
   "source": []
  }
 ],
 "metadata": {
  "kernelspec": {
   "display_name": "Python 3 (ipykernel)",
   "language": "python",
   "name": "python3"
  },
  "language_info": {
   "codemirror_mode": {
    "name": "ipython",
    "version": 3
   },
   "file_extension": ".py",
   "mimetype": "text/x-python",
   "name": "python",
   "nbconvert_exporter": "python",
   "pygments_lexer": "ipython3",
   "version": "3.12.2"
  }
 },
 "nbformat": 4,
 "nbformat_minor": 5
}
