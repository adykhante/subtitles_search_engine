{
 "cells": [
  {
   "cell_type": "code",
   "execution_count": 1,
   "id": "4efacf6b-1a24-45dc-888d-5a77b57b9eb2",
   "metadata": {},
   "outputs": [],
   "source": [
    "import pandas as pd\n",
    "import sqlite3"
   ]
  },
  {
   "cell_type": "code",
   "execution_count": 2,
   "id": "2af99e7e-d750-4ecb-ae7d-320b46c9af1f",
   "metadata": {},
   "outputs": [],
   "source": [
    "# Connect to the SQLite database\n",
    "conn = sqlite3.connect('eng_subtitles_database.db')"
   ]
  },
  {
   "cell_type": "code",
   "execution_count": 3,
   "id": "b0626648-4963-4ca9-9827-705c6a45c59d",
   "metadata": {},
   "outputs": [],
   "source": [
    "# Read the contents of the 'zipfiles' table into a DataFrame\n",
    "df = pd.read_sql_query(\"SELECT * FROM zipfiles\", conn)"
   ]
  },
  {
   "cell_type": "code",
   "execution_count": 4,
   "id": "57513060-3d0d-457b-b538-f8e56b741612",
   "metadata": {},
   "outputs": [],
   "source": [
    "# Close the connection\n",
    "conn.close()"
   ]
  },
  {
   "cell_type": "code",
   "execution_count": 5,
   "id": "26ec7d88-909d-43b2-802c-79dd324c76fe",
   "metadata": {},
   "outputs": [
    {
     "data": {
      "text/plain": [
       "(82498, 3)"
      ]
     },
     "execution_count": 5,
     "metadata": {},
     "output_type": "execute_result"
    }
   ],
   "source": [
    "df.shape"
   ]
  },
  {
   "cell_type": "code",
   "execution_count": 6,
   "id": "91aff76c-d121-4792-9fdc-8812352254b8",
   "metadata": {},
   "outputs": [
    {
     "data": {
      "text/plain": [
       "Index(['num', 'name', 'content'], dtype='object')"
      ]
     },
     "execution_count": 6,
     "metadata": {},
     "output_type": "execute_result"
    }
   ],
   "source": [
    "df.columns"
   ]
  },
  {
   "cell_type": "code",
   "execution_count": 7,
   "id": "3832aa74-bb06-4f60-9ba3-c72ae52ddce8",
   "metadata": {},
   "outputs": [
    {
     "name": "stdout",
     "output_type": "stream",
     "text": [
      "<class 'pandas.core.frame.DataFrame'>\n",
      "RangeIndex: 82498 entries, 0 to 82497\n",
      "Data columns (total 3 columns):\n",
      " #   Column   Non-Null Count  Dtype \n",
      "---  ------   --------------  ----- \n",
      " 0   num      82498 non-null  int64 \n",
      " 1   name     82498 non-null  object\n",
      " 2   content  82498 non-null  object\n",
      "dtypes: int64(1), object(2)\n",
      "memory usage: 1.9+ MB\n"
     ]
    }
   ],
   "source": [
    "df.info()"
   ]
  },
  {
   "cell_type": "code",
   "execution_count": 8,
   "id": "3611b72c-1806-4c79-9c5a-2c4f4ceb97c9",
   "metadata": {},
   "outputs": [
    {
     "data": {
      "text/html": [
       "<div>\n",
       "<style scoped>\n",
       "    .dataframe tbody tr th:only-of-type {\n",
       "        vertical-align: middle;\n",
       "    }\n",
       "\n",
       "    .dataframe tbody tr th {\n",
       "        vertical-align: top;\n",
       "    }\n",
       "\n",
       "    .dataframe thead th {\n",
       "        text-align: right;\n",
       "    }\n",
       "</style>\n",
       "<table border=\"1\" class=\"dataframe\">\n",
       "  <thead>\n",
       "    <tr style=\"text-align: right;\">\n",
       "      <th></th>\n",
       "      <th>num</th>\n",
       "      <th>name</th>\n",
       "      <th>content</th>\n",
       "    </tr>\n",
       "  </thead>\n",
       "  <tbody>\n",
       "  </tbody>\n",
       "</table>\n",
       "</div>"
      ],
      "text/plain": [
       "Empty DataFrame\n",
       "Columns: [num, name, content]\n",
       "Index: []"
      ]
     },
     "execution_count": 8,
     "metadata": {},
     "output_type": "execute_result"
    }
   ],
   "source": [
    "df[df.duplicated()]"
   ]
  },
  {
   "cell_type": "markdown",
   "id": "4a1682d5-b539-45f0-8fbb-b63cf0b7104e",
   "metadata": {},
   "source": [
    "**Looks No Duplicates Are There**"
   ]
  },
  {
   "cell_type": "code",
   "execution_count": 9,
   "id": "8b66192e-572c-4a23-98a9-ccd3611d911f",
   "metadata": {},
   "outputs": [
    {
     "data": {
      "text/html": [
       "<div>\n",
       "<style scoped>\n",
       "    .dataframe tbody tr th:only-of-type {\n",
       "        vertical-align: middle;\n",
       "    }\n",
       "\n",
       "    .dataframe tbody tr th {\n",
       "        vertical-align: top;\n",
       "    }\n",
       "\n",
       "    .dataframe thead th {\n",
       "        text-align: right;\n",
       "    }\n",
       "</style>\n",
       "<table border=\"1\" class=\"dataframe\">\n",
       "  <thead>\n",
       "    <tr style=\"text-align: right;\">\n",
       "      <th></th>\n",
       "      <th>num</th>\n",
       "      <th>name</th>\n",
       "      <th>content</th>\n",
       "    </tr>\n",
       "  </thead>\n",
       "  <tbody>\n",
       "    <tr>\n",
       "      <th>0</th>\n",
       "      <td>9180533</td>\n",
       "      <td>the.message.(1976).eng.1cd</td>\n",
       "      <td>b'PK\\x03\\x04\\x14\\x00\\x00\\x00\\x08\\x00\\x1c\\xa9\\x...</td>\n",
       "    </tr>\n",
       "    <tr>\n",
       "      <th>1</th>\n",
       "      <td>9180583</td>\n",
       "      <td>here.comes.the.grump.s01.e09.joltin.jack.in.bo...</td>\n",
       "      <td>b'PK\\x03\\x04\\x14\\x00\\x00\\x00\\x08\\x00\\x17\\xb9\\x...</td>\n",
       "    </tr>\n",
       "    <tr>\n",
       "      <th>2</th>\n",
       "      <td>9180592</td>\n",
       "      <td>yumis.cells.s02.e13.episode.2.13.(2022).eng.1cd</td>\n",
       "      <td>b'PK\\x03\\x04\\x14\\x00\\x00\\x00\\x08\\x00L\\xb9\\x99V...</td>\n",
       "    </tr>\n",
       "    <tr>\n",
       "      <th>3</th>\n",
       "      <td>9180594</td>\n",
       "      <td>yumis.cells.s02.e14.episode.2.14.(2022).eng.1cd</td>\n",
       "      <td>b'PK\\x03\\x04\\x14\\x00\\x00\\x00\\x08\\x00U\\xa9\\x99V...</td>\n",
       "    </tr>\n",
       "    <tr>\n",
       "      <th>4</th>\n",
       "      <td>9180600</td>\n",
       "      <td>broker.(2022).eng.1cd</td>\n",
       "      <td>b'PK\\x03\\x04\\x14\\x00\\x00\\x00\\x08\\x001\\xa9\\x99V...</td>\n",
       "    </tr>\n",
       "  </tbody>\n",
       "</table>\n",
       "</div>"
      ],
      "text/plain": [
       "       num                                               name  \\\n",
       "0  9180533                         the.message.(1976).eng.1cd   \n",
       "1  9180583  here.comes.the.grump.s01.e09.joltin.jack.in.bo...   \n",
       "2  9180592    yumis.cells.s02.e13.episode.2.13.(2022).eng.1cd   \n",
       "3  9180594    yumis.cells.s02.e14.episode.2.14.(2022).eng.1cd   \n",
       "4  9180600                              broker.(2022).eng.1cd   \n",
       "\n",
       "                                             content  \n",
       "0  b'PK\\x03\\x04\\x14\\x00\\x00\\x00\\x08\\x00\\x1c\\xa9\\x...  \n",
       "1  b'PK\\x03\\x04\\x14\\x00\\x00\\x00\\x08\\x00\\x17\\xb9\\x...  \n",
       "2  b'PK\\x03\\x04\\x14\\x00\\x00\\x00\\x08\\x00L\\xb9\\x99V...  \n",
       "3  b'PK\\x03\\x04\\x14\\x00\\x00\\x00\\x08\\x00U\\xa9\\x99V...  \n",
       "4  b'PK\\x03\\x04\\x14\\x00\\x00\\x00\\x08\\x001\\xa9\\x99V...  "
      ]
     },
     "execution_count": 9,
     "metadata": {},
     "output_type": "execute_result"
    }
   ],
   "source": [
    "df.head()"
   ]
  },
  {
   "cell_type": "markdown",
   "id": "0552a259-7809-483f-854a-528951d049bc",
   "metadata": {},
   "source": [
    "### For Whole Data"
   ]
  },
  {
   "cell_type": "code",
   "execution_count": 10,
   "id": "18f1ea4e-07f7-4756-a694-568e876d1439",
   "metadata": {},
   "outputs": [
    {
     "name": "stderr",
     "output_type": "stream",
     "text": [
      "100%|████████████████████████████████████████████████████████████████████████████████████████████████████████████████████████████████████████████████████████████████████| 82498/82498 [12:50<00:00, 107.12it/s]"
     ]
    },
    {
     "name": "stdout",
     "output_type": "stream",
     "text": [
      "Subtitle files saved successfully.\n"
     ]
    },
    {
     "name": "stderr",
     "output_type": "stream",
     "text": [
      "\n"
     ]
    }
   ],
   "source": [
    "import zipfile\n",
    "import io\n",
    "import os\n",
    "from tqdm import tqdm\n",
    "\n",
    "# Create a directory if it doesn't exist\n",
    "output_folder = \"subtitles_data\"\n",
    "if not os.path.exists(output_folder):\n",
    "    os.makedirs(output_folder)\n",
    "\n",
    "# Function to process each row in the DataFrame\n",
    "def process_row(row):\n",
    "    compressed_data = row['content']\n",
    "    file_name = row['name'] + '.txt'\n",
    "\n",
    "    # Wrap the binary data in a BytesIO object\n",
    "    compressed_data_io = io.BytesIO(compressed_data)\n",
    "\n",
    "    # Create a ZipFile object from the BytesIO object\n",
    "    with zipfile.ZipFile(compressed_data_io) as zip_file:\n",
    "        # Assuming there's only one file in the ZIP archive\n",
    "        # If there are multiple files, you'll need to specify the filename\n",
    "        file_in_zip = zip_file.namelist()[0]\n",
    "\n",
    "        # Read the contents of the file from the ZIP archive\n",
    "        file_content = zip_file.read(file_in_zip)\n",
    "\n",
    "        # Decode the file content using Latin-1 encoding\n",
    "        decoded_data = file_content.decode('latin-1')\n",
    "\n",
    "        # Write the decoded data to a text file\n",
    "        output_path = os.path.join(output_folder, file_name)\n",
    "        with open(output_path, 'w', encoding='utf-8') as f:\n",
    "            f.write(decoded_data)\n",
    "\n",
    "# Process each row in the sampled DataFrame with a progress bar\n",
    "for _, row in tqdm(df.iterrows(), total=len(df)):\n",
    "    process_row(row)\n",
    "\n",
    "# Confirm completion\n",
    "print(\"Subtitle files saved successfully.\")"
   ]
  },
  {
   "cell_type": "code",
   "execution_count": 11,
   "id": "b0a892f0-72fc-49c0-bb03-84bf29986c08",
   "metadata": {},
   "outputs": [
    {
     "name": "stderr",
     "output_type": "stream",
     "text": [
      "Calculating folder size: 51929it [00:19, 2683.74it/s]"
     ]
    },
    {
     "name": "stdout",
     "output_type": "stream",
     "text": [
      "Calculating folder size: Done\n",
      "Size of folder 'subtitles_data': 3117.75 MB\n",
      "Number of items in folder 'subtitles_data': 51929\n"
     ]
    },
    {
     "name": "stderr",
     "output_type": "stream",
     "text": [
      "\n"
     ]
    }
   ],
   "source": [
    "import os\n",
    "from tqdm import tqdm\n",
    "\n",
    "def get_folder_size_with_progress(folder_path):\n",
    "    total_size = 0\n",
    "    num_files = 0\n",
    "    with tqdm(desc='Calculating folder size') as pbar:\n",
    "        for dirpath, dirnames, filenames in os.walk(folder_path):\n",
    "            num_files += len(filenames)\n",
    "            for filename in filenames:\n",
    "                filepath = os.path.join(dirpath, filename)\n",
    "                total_size += os.path.getsize(filepath)\n",
    "                pbar.update(1)\n",
    "    return total_size, num_files\n",
    "\n",
    "folder_path = \"subtitles_data\"\n",
    "size_in_bytes, num_items = get_folder_size_with_progress(folder_path)\n",
    "size_in_megabytes = size_in_bytes / (1024 * 1024)\n",
    "\n",
    "print(f\"Calculating folder size: Done\")\n",
    "print(f\"Size of folder '{folder_path}': {size_in_megabytes:.2f} MB\")\n",
    "print(f\"Number of items in folder '{folder_path}': {num_items}\")"
   ]
  },
  {
   "cell_type": "code",
   "execution_count": 12,
   "id": "b6c8abb4-d387-4741-bef9-508be2c03450",
   "metadata": {},
   "outputs": [
    {
     "data": {
      "text/html": [
       "<div>\n",
       "<style scoped>\n",
       "    .dataframe tbody tr th:only-of-type {\n",
       "        vertical-align: middle;\n",
       "    }\n",
       "\n",
       "    .dataframe tbody tr th {\n",
       "        vertical-align: top;\n",
       "    }\n",
       "\n",
       "    .dataframe thead th {\n",
       "        text-align: right;\n",
       "    }\n",
       "</style>\n",
       "<table border=\"1\" class=\"dataframe\">\n",
       "  <thead>\n",
       "    <tr style=\"text-align: right;\">\n",
       "      <th></th>\n",
       "      <th>num</th>\n",
       "      <th>name</th>\n",
       "      <th>content</th>\n",
       "    </tr>\n",
       "  </thead>\n",
       "  <tbody>\n",
       "    <tr>\n",
       "      <th>25</th>\n",
       "      <td>9181731</td>\n",
       "      <td>flowers.in.the.attic.the.origin.s01.e03.part.t...</td>\n",
       "      <td>b'PK\\x03\\x04\\x14\\x00\\x00\\x00\\x08\\x00Ix\\x91V$\\x...</td>\n",
       "    </tr>\n",
       "    <tr>\n",
       "      <th>34</th>\n",
       "      <td>9181933</td>\n",
       "      <td>alchemy.of.souls.s01.e12.episode.1.12.(2022).e...</td>\n",
       "      <td>b'PK\\x03\\x04\\x14\\x00\\x00\\x00\\x08\\x00\\x00}\\x91V...</td>\n",
       "    </tr>\n",
       "    <tr>\n",
       "      <th>47</th>\n",
       "      <td>9181978</td>\n",
       "      <td>the.governor.s01.e01.episode.1.1.(1995).eng.1cd</td>\n",
       "      <td>b'PK\\x03\\x04\\x14\\x00\\x00\\x00\\x08\\x003\\xa9\\x99V...</td>\n",
       "    </tr>\n",
       "    <tr>\n",
       "      <th>48</th>\n",
       "      <td>9181979</td>\n",
       "      <td>the.governor.s01.e02.episode.1.2.(1995).eng.1cd</td>\n",
       "      <td>b'PK\\x03\\x04\\x14\\x00\\x00\\x00\\x08\\x00\\x18\\xa9\\x...</td>\n",
       "    </tr>\n",
       "    <tr>\n",
       "      <th>49</th>\n",
       "      <td>9181980</td>\n",
       "      <td>the.governor.s01.e03.episode.1.3.(1995).eng.1cd</td>\n",
       "      <td>b'PK\\x03\\x04\\x14\\x00\\x00\\x00\\x08\\x00\\x91~\\x91V...</td>\n",
       "    </tr>\n",
       "    <tr>\n",
       "      <th>...</th>\n",
       "      <td>...</td>\n",
       "      <td>...</td>\n",
       "      <td>...</td>\n",
       "    </tr>\n",
       "    <tr>\n",
       "      <th>82486</th>\n",
       "      <td>9521885</td>\n",
       "      <td>eiga.yurukyan.(2022).eng.1cd</td>\n",
       "      <td>b'PK\\x03\\x04\\x14\\x00\\x00\\x00\\x08\\x00\\xc5\\xa6\\x...</td>\n",
       "    </tr>\n",
       "    <tr>\n",
       "      <th>82489</th>\n",
       "      <td>9521930</td>\n",
       "      <td>the.fearway.(2023).eng.1cd</td>\n",
       "      <td>b'PK\\x03\\x04\\x14\\x00\\x00\\x00\\x08\\x00\\x0f\\x97\\x...</td>\n",
       "    </tr>\n",
       "    <tr>\n",
       "      <th>82491</th>\n",
       "      <td>9521932</td>\n",
       "      <td>star.trek.generations.(1994).eng.1cd</td>\n",
       "      <td>b'PK\\x03\\x04\\x14\\x00\\x00\\x00\\x08\\x00\\xcc\\x96\\x...</td>\n",
       "    </tr>\n",
       "    <tr>\n",
       "      <th>82492</th>\n",
       "      <td>9521933</td>\n",
       "      <td>star.trek.insurrection.(1998).eng.1cd</td>\n",
       "      <td>b'PK\\x03\\x04\\x14\\x00\\x00\\x00\\x08\\x00\\xe8\\x96\\x...</td>\n",
       "    </tr>\n",
       "    <tr>\n",
       "      <th>82496</th>\n",
       "      <td>9521940</td>\n",
       "      <td>frankenstein.the.true.story.(1973).eng.1cd</td>\n",
       "      <td>b'PK\\x03\\x04\\x14\\x00\\x00\\x00\\x08\\x00\\x00\\x97\\x...</td>\n",
       "    </tr>\n",
       "  </tbody>\n",
       "</table>\n",
       "<p>30569 rows × 3 columns</p>\n",
       "</div>"
      ],
      "text/plain": [
       "           num                                               name  \\\n",
       "25     9181731  flowers.in.the.attic.the.origin.s01.e03.part.t...   \n",
       "34     9181933  alchemy.of.souls.s01.e12.episode.1.12.(2022).e...   \n",
       "47     9181978    the.governor.s01.e01.episode.1.1.(1995).eng.1cd   \n",
       "48     9181979    the.governor.s01.e02.episode.1.2.(1995).eng.1cd   \n",
       "49     9181980    the.governor.s01.e03.episode.1.3.(1995).eng.1cd   \n",
       "...        ...                                                ...   \n",
       "82486  9521885                       eiga.yurukyan.(2022).eng.1cd   \n",
       "82489  9521930                         the.fearway.(2023).eng.1cd   \n",
       "82491  9521932               star.trek.generations.(1994).eng.1cd   \n",
       "82492  9521933              star.trek.insurrection.(1998).eng.1cd   \n",
       "82496  9521940         frankenstein.the.true.story.(1973).eng.1cd   \n",
       "\n",
       "                                                 content  \n",
       "25     b'PK\\x03\\x04\\x14\\x00\\x00\\x00\\x08\\x00Ix\\x91V$\\x...  \n",
       "34     b'PK\\x03\\x04\\x14\\x00\\x00\\x00\\x08\\x00\\x00}\\x91V...  \n",
       "47     b'PK\\x03\\x04\\x14\\x00\\x00\\x00\\x08\\x003\\xa9\\x99V...  \n",
       "48     b'PK\\x03\\x04\\x14\\x00\\x00\\x00\\x08\\x00\\x18\\xa9\\x...  \n",
       "49     b'PK\\x03\\x04\\x14\\x00\\x00\\x00\\x08\\x00\\x91~\\x91V...  \n",
       "...                                                  ...  \n",
       "82486  b'PK\\x03\\x04\\x14\\x00\\x00\\x00\\x08\\x00\\xc5\\xa6\\x...  \n",
       "82489  b'PK\\x03\\x04\\x14\\x00\\x00\\x00\\x08\\x00\\x0f\\x97\\x...  \n",
       "82491  b'PK\\x03\\x04\\x14\\x00\\x00\\x00\\x08\\x00\\xcc\\x96\\x...  \n",
       "82492  b'PK\\x03\\x04\\x14\\x00\\x00\\x00\\x08\\x00\\xe8\\x96\\x...  \n",
       "82496  b'PK\\x03\\x04\\x14\\x00\\x00\\x00\\x08\\x00\\x00\\x97\\x...  \n",
       "\n",
       "[30569 rows x 3 columns]"
      ]
     },
     "execution_count": 12,
     "metadata": {},
     "output_type": "execute_result"
    }
   ],
   "source": [
    "df[df.duplicated('name')]"
   ]
  },
  {
   "cell_type": "markdown",
   "id": "dfe7426c-edf5-43a4-9b0b-efe206c2bb4e",
   "metadata": {},
   "source": [
    "**There Are Duplicate Entries, Thats Why Processing Shows 82498 And Total No Of Files In Folder Are 51929**"
   ]
  },
  {
   "cell_type": "markdown",
   "id": "4d8c64f8-5afc-437e-a473-c0351f8bcef2",
   "metadata": {},
   "source": [
    "## Taking 30% Data"
   ]
  },
  {
   "cell_type": "code",
   "execution_count": 13,
   "id": "2ad8d118-355c-445f-970d-9212601f5c87",
   "metadata": {},
   "outputs": [],
   "source": [
    "# Sample 30% of the data\n",
    "sampled_df = df.sample(frac=0.3)"
   ]
  },
  {
   "cell_type": "code",
   "execution_count": 14,
   "id": "77241b50-158c-460b-8786-a3435ff422e5",
   "metadata": {},
   "outputs": [
    {
     "data": {
      "text/plain": [
       "(24749, 3)"
      ]
     },
     "execution_count": 14,
     "metadata": {},
     "output_type": "execute_result"
    }
   ],
   "source": [
    "sampled_df.shape"
   ]
  },
  {
   "cell_type": "code",
   "execution_count": 15,
   "id": "b42e120c-ba07-4a23-ad6b-4b62307e52c1",
   "metadata": {},
   "outputs": [
    {
     "data": {
      "text/html": [
       "<div>\n",
       "<style scoped>\n",
       "    .dataframe tbody tr th:only-of-type {\n",
       "        vertical-align: middle;\n",
       "    }\n",
       "\n",
       "    .dataframe tbody tr th {\n",
       "        vertical-align: top;\n",
       "    }\n",
       "\n",
       "    .dataframe thead th {\n",
       "        text-align: right;\n",
       "    }\n",
       "</style>\n",
       "<table border=\"1\" class=\"dataframe\">\n",
       "  <thead>\n",
       "    <tr style=\"text-align: right;\">\n",
       "      <th></th>\n",
       "      <th>num</th>\n",
       "      <th>name</th>\n",
       "      <th>content</th>\n",
       "    </tr>\n",
       "  </thead>\n",
       "  <tbody>\n",
       "    <tr>\n",
       "      <th>61269</th>\n",
       "      <td>9435114</td>\n",
       "      <td>a.different.world.s06.e09.faith.hope.and.chari...</td>\n",
       "      <td>b'PK\\x03\\x04\\x14\\x00\\x00\\x00\\x08\\x00\\xc7=\\x9aV...</td>\n",
       "    </tr>\n",
       "    <tr>\n",
       "      <th>40068</th>\n",
       "      <td>9345469</td>\n",
       "      <td>stargirl.s03.e13.frenemies.chapter.thirteen.th...</td>\n",
       "      <td>b'PK\\x03\\x04\\x14\\x00\\x00\\x00\\x08\\x00p\\xbd\\x99V...</td>\n",
       "    </tr>\n",
       "    <tr>\n",
       "      <th>18820</th>\n",
       "      <td>9257015</td>\n",
       "      <td>the.empress.s01.e02.the.arrival.(2022).eng.1cd</td>\n",
       "      <td>b'PK\\x03\\x04\\x14\\x00\\x00\\x00\\x08\\x00\\x98\\x9b\\x...</td>\n",
       "    </tr>\n",
       "    <tr>\n",
       "      <th>61095</th>\n",
       "      <td>9434669</td>\n",
       "      <td>community.squad.s01.e08.casi.heroes.(2023).eng...</td>\n",
       "      <td>b'PK\\x03\\x04\\x14\\x00\\x00\\x00\\x08\\x00\\xefL\\x9aV...</td>\n",
       "    </tr>\n",
       "    <tr>\n",
       "      <th>9014</th>\n",
       "      <td>9219561</td>\n",
       "      <td>this.is.us.s01.e03.kyle.(2016).eng.1cd</td>\n",
       "      <td>b'PK\\x03\\x04\\x14\\x00\\x00\\x00\\x08\\x00\\x98\\x91\\x...</td>\n",
       "    </tr>\n",
       "  </tbody>\n",
       "</table>\n",
       "</div>"
      ],
      "text/plain": [
       "           num                                               name  \\\n",
       "61269  9435114  a.different.world.s06.e09.faith.hope.and.chari...   \n",
       "40068  9345469  stargirl.s03.e13.frenemies.chapter.thirteen.th...   \n",
       "18820  9257015     the.empress.s01.e02.the.arrival.(2022).eng.1cd   \n",
       "61095  9434669  community.squad.s01.e08.casi.heroes.(2023).eng...   \n",
       "9014   9219561             this.is.us.s01.e03.kyle.(2016).eng.1cd   \n",
       "\n",
       "                                                 content  \n",
       "61269  b'PK\\x03\\x04\\x14\\x00\\x00\\x00\\x08\\x00\\xc7=\\x9aV...  \n",
       "40068  b'PK\\x03\\x04\\x14\\x00\\x00\\x00\\x08\\x00p\\xbd\\x99V...  \n",
       "18820  b'PK\\x03\\x04\\x14\\x00\\x00\\x00\\x08\\x00\\x98\\x9b\\x...  \n",
       "61095  b'PK\\x03\\x04\\x14\\x00\\x00\\x00\\x08\\x00\\xefL\\x9aV...  \n",
       "9014   b'PK\\x03\\x04\\x14\\x00\\x00\\x00\\x08\\x00\\x98\\x91\\x...  "
      ]
     },
     "execution_count": 15,
     "metadata": {},
     "output_type": "execute_result"
    }
   ],
   "source": [
    "sampled_df.head()"
   ]
  },
  {
   "cell_type": "markdown",
   "id": "92d71115-a3a2-4814-b1e1-7f8106d70f73",
   "metadata": {},
   "source": [
    "### For 30% Data"
   ]
  },
  {
   "cell_type": "code",
   "execution_count": 16,
   "id": "f5a479cf-668b-4f6c-988d-66544ab9df55",
   "metadata": {},
   "outputs": [
    {
     "name": "stderr",
     "output_type": "stream",
     "text": [
      "100%|█████████████████████████████████████████████████████████████████████████████████████████████████████████████████████████████████████████████████████████████████████| 24749/24749 [04:25<00:00, 93.09it/s]"
     ]
    },
    {
     "name": "stdout",
     "output_type": "stream",
     "text": [
      "Subtitle files saved successfully.\n"
     ]
    },
    {
     "name": "stderr",
     "output_type": "stream",
     "text": [
      "\n"
     ]
    }
   ],
   "source": [
    "import zipfile\n",
    "import io\n",
    "import os\n",
    "from tqdm import tqdm\n",
    "\n",
    "# Create a directory if it doesn't exist\n",
    "output_folder = \"subtitles_data_30%\"\n",
    "if not os.path.exists(output_folder):\n",
    "    os.makedirs(output_folder)\n",
    "\n",
    "# Function to process each row in the DataFrame\n",
    "def process_row(row):\n",
    "    compressed_data = row['content']\n",
    "    file_name = row['name'] + '.txt'\n",
    "\n",
    "    # Wrap the binary data in a BytesIO object\n",
    "    compressed_data_io = io.BytesIO(compressed_data)\n",
    "\n",
    "    # Create a ZipFile object from the BytesIO object\n",
    "    with zipfile.ZipFile(compressed_data_io) as zip_file:\n",
    "        # Assuming there's only one file in the ZIP archive\n",
    "        # If there are multiple files, you'll need to specify the filename\n",
    "        file_in_zip = zip_file.namelist()[0]\n",
    "\n",
    "        # Read the contents of the file from the ZIP archive\n",
    "        file_content = zip_file.read(file_in_zip)\n",
    "\n",
    "        # Decode the file content using Latin-1 encoding\n",
    "        decoded_data = file_content.decode('latin-1')\n",
    "\n",
    "        # Write the decoded data to a text file\n",
    "        output_path = os.path.join(output_folder, file_name)\n",
    "        with open(output_path, 'w', encoding='utf-8') as f:\n",
    "            f.write(decoded_data)\n",
    "\n",
    "# Process each row in the sampled DataFrame with a progress bar\n",
    "for _, row in tqdm(sampled_df.iterrows(), total=len(sampled_df)):\n",
    "    process_row(row)\n",
    "\n",
    "# Confirm completion\n",
    "print(\"Subtitle files saved successfully.\")"
   ]
  },
  {
   "cell_type": "code",
   "execution_count": 17,
   "id": "8c16e273-e5b7-43cb-ada9-35c86d695622",
   "metadata": {},
   "outputs": [
    {
     "name": "stderr",
     "output_type": "stream",
     "text": [
      "Calculating folder size: 21430it [00:06, 3527.87it/s]"
     ]
    },
    {
     "name": "stdout",
     "output_type": "stream",
     "text": [
      "Calculating folder size: Done\n",
      "Size of folder 'subtitles_data_30%': 1310.47 MB\n",
      "Number of items in folder 'subtitles_data_30%': 21430\n"
     ]
    },
    {
     "name": "stderr",
     "output_type": "stream",
     "text": [
      "\n"
     ]
    }
   ],
   "source": [
    "import os\n",
    "from tqdm import tqdm\n",
    "\n",
    "def get_folder_size_with_progress(folder_path):\n",
    "    total_size = 0\n",
    "    num_files = 0\n",
    "    with tqdm(desc='Calculating folder size') as pbar:\n",
    "        for dirpath, dirnames, filenames in os.walk(folder_path):\n",
    "            num_files += len(filenames)\n",
    "            for filename in filenames:\n",
    "                filepath = os.path.join(dirpath, filename)\n",
    "                total_size += os.path.getsize(filepath)\n",
    "                pbar.update(1)\n",
    "    return total_size, num_files\n",
    "\n",
    "folder_path = \"subtitles_data_30%\"\n",
    "size_in_bytes, num_items = get_folder_size_with_progress(folder_path)\n",
    "size_in_megabytes = size_in_bytes / (1024 * 1024)\n",
    "\n",
    "print(f\"Calculating folder size: Done\")\n",
    "print(f\"Size of folder '{folder_path}': {size_in_megabytes:.2f} MB\")\n",
    "print(f\"Number of items in folder '{folder_path}': {num_items}\")"
   ]
  },
  {
   "cell_type": "code",
   "execution_count": 18,
   "id": "582decc4-69ee-4844-9171-c45a2a1484d9",
   "metadata": {},
   "outputs": [
    {
     "data": {
      "text/html": [
       "<div>\n",
       "<style scoped>\n",
       "    .dataframe tbody tr th:only-of-type {\n",
       "        vertical-align: middle;\n",
       "    }\n",
       "\n",
       "    .dataframe tbody tr th {\n",
       "        vertical-align: top;\n",
       "    }\n",
       "\n",
       "    .dataframe thead th {\n",
       "        text-align: right;\n",
       "    }\n",
       "</style>\n",
       "<table border=\"1\" class=\"dataframe\">\n",
       "  <thead>\n",
       "    <tr style=\"text-align: right;\">\n",
       "      <th></th>\n",
       "      <th>num</th>\n",
       "      <th>name</th>\n",
       "      <th>content</th>\n",
       "    </tr>\n",
       "  </thead>\n",
       "  <tbody>\n",
       "    <tr>\n",
       "      <th>78088</th>\n",
       "      <td>9503871</td>\n",
       "      <td>csi.crime.scene.investigation.s14.e10.girls.go...</td>\n",
       "      <td>b'PK\\x03\\x04\\x14\\x00\\x00\\x00\\x08\\x00S\\x87\\x9aV...</td>\n",
       "    </tr>\n",
       "    <tr>\n",
       "      <th>75140</th>\n",
       "      <td>9490669</td>\n",
       "      <td>dr.savilles.horror.show.().eng.1cd</td>\n",
       "      <td>b'PK\\x03\\x04\\x14\\x00\\x00\\x00\\x08\\x00u\\x81\\x9aV...</td>\n",
       "    </tr>\n",
       "    <tr>\n",
       "      <th>14652</th>\n",
       "      <td>9242448</td>\n",
       "      <td>the.nanny.s03.e09.the.two.mrs.sheffields.(1995...</td>\n",
       "      <td>b'PK\\x03\\x04\\x14\\x00\\x00\\x00\\x08\\x00j\\x98\\x99V...</td>\n",
       "    </tr>\n",
       "    <tr>\n",
       "      <th>45585</th>\n",
       "      <td>9370573</td>\n",
       "      <td>bump.(2021).eng.1cd</td>\n",
       "      <td>b'PK\\x03\\x04\\x14\\x00\\x00\\x00\\x08\\x00\\x84\\x11\\x...</td>\n",
       "    </tr>\n",
       "    <tr>\n",
       "      <th>44628</th>\n",
       "      <td>9365726</td>\n",
       "      <td>alice.in.borderland.s02.e05.episode.2.5.(2022)...</td>\n",
       "      <td>b'PK\\x03\\x04\\x14\\x00\\x00\\x00\\x08\\x00G\\r\\x9aV8\\...</td>\n",
       "    </tr>\n",
       "    <tr>\n",
       "      <th>...</th>\n",
       "      <td>...</td>\n",
       "      <td>...</td>\n",
       "      <td>...</td>\n",
       "    </tr>\n",
       "    <tr>\n",
       "      <th>58718</th>\n",
       "      <td>9426845</td>\n",
       "      <td>family.guy.s16.e17.switch.the.flip.(2018).eng.1cd</td>\n",
       "      <td>b'PK\\x03\\x04\\x14\\x00\\x00\\x00\\x08\\x00b7\\x9aV\\x1...</td>\n",
       "    </tr>\n",
       "    <tr>\n",
       "      <th>39884</th>\n",
       "      <td>9344787</td>\n",
       "      <td>beauty.and.the.beast.s01.e06.worth.(2012).eng.1cd</td>\n",
       "      <td>b'PK\\x03\\x04\\x14\\x00\\x00\\x00\\x08\\x00\\xf0\\xbc\\x...</td>\n",
       "    </tr>\n",
       "    <tr>\n",
       "      <th>39865</th>\n",
       "      <td>9344767</td>\n",
       "      <td>beauty.and.the.beast.s01.e09.bridesmaid.up.(20...</td>\n",
       "      <td>b'PK\\x03\\x04\\x14\\x00\\x00\\x00\\x08\\x00\\xd9\\xbc\\x...</td>\n",
       "    </tr>\n",
       "    <tr>\n",
       "      <th>44983</th>\n",
       "      <td>9367899</td>\n",
       "      <td>90210.s02.e09.a.trip.to.the.moon.(2009).eng.1cd</td>\n",
       "      <td>b'PK\\x03\\x04\\x14\\x00\\x00\\x00\\x08\\x00Y\\x0e\\x9aV...</td>\n",
       "    </tr>\n",
       "    <tr>\n",
       "      <th>26699</th>\n",
       "      <td>9287358</td>\n",
       "      <td>ncis.hawaii.s02.e06.changing.tides.(2022).eng.1cd</td>\n",
       "      <td>b'PK\\x03\\x04\\x14\\x00\\x00\\x00\\x08\\x00-\\xa4\\x99V...</td>\n",
       "    </tr>\n",
       "  </tbody>\n",
       "</table>\n",
       "<p>3319 rows × 3 columns</p>\n",
       "</div>"
      ],
      "text/plain": [
       "           num                                               name  \\\n",
       "78088  9503871  csi.crime.scene.investigation.s14.e10.girls.go...   \n",
       "75140  9490669                 dr.savilles.horror.show.().eng.1cd   \n",
       "14652  9242448  the.nanny.s03.e09.the.two.mrs.sheffields.(1995...   \n",
       "45585  9370573                                bump.(2021).eng.1cd   \n",
       "44628  9365726  alice.in.borderland.s02.e05.episode.2.5.(2022)...   \n",
       "...        ...                                                ...   \n",
       "58718  9426845  family.guy.s16.e17.switch.the.flip.(2018).eng.1cd   \n",
       "39884  9344787  beauty.and.the.beast.s01.e06.worth.(2012).eng.1cd   \n",
       "39865  9344767  beauty.and.the.beast.s01.e09.bridesmaid.up.(20...   \n",
       "44983  9367899    90210.s02.e09.a.trip.to.the.moon.(2009).eng.1cd   \n",
       "26699  9287358  ncis.hawaii.s02.e06.changing.tides.(2022).eng.1cd   \n",
       "\n",
       "                                                 content  \n",
       "78088  b'PK\\x03\\x04\\x14\\x00\\x00\\x00\\x08\\x00S\\x87\\x9aV...  \n",
       "75140  b'PK\\x03\\x04\\x14\\x00\\x00\\x00\\x08\\x00u\\x81\\x9aV...  \n",
       "14652  b'PK\\x03\\x04\\x14\\x00\\x00\\x00\\x08\\x00j\\x98\\x99V...  \n",
       "45585  b'PK\\x03\\x04\\x14\\x00\\x00\\x00\\x08\\x00\\x84\\x11\\x...  \n",
       "44628  b'PK\\x03\\x04\\x14\\x00\\x00\\x00\\x08\\x00G\\r\\x9aV8\\...  \n",
       "...                                                  ...  \n",
       "58718  b'PK\\x03\\x04\\x14\\x00\\x00\\x00\\x08\\x00b7\\x9aV\\x1...  \n",
       "39884  b'PK\\x03\\x04\\x14\\x00\\x00\\x00\\x08\\x00\\xf0\\xbc\\x...  \n",
       "39865  b'PK\\x03\\x04\\x14\\x00\\x00\\x00\\x08\\x00\\xd9\\xbc\\x...  \n",
       "44983  b'PK\\x03\\x04\\x14\\x00\\x00\\x00\\x08\\x00Y\\x0e\\x9aV...  \n",
       "26699  b'PK\\x03\\x04\\x14\\x00\\x00\\x00\\x08\\x00-\\xa4\\x99V...  \n",
       "\n",
       "[3319 rows x 3 columns]"
      ]
     },
     "execution_count": 18,
     "metadata": {},
     "output_type": "execute_result"
    }
   ],
   "source": [
    "sampled_df[sampled_df.duplicated('name')]"
   ]
  },
  {
   "cell_type": "markdown",
   "id": "969505ab-1d26-43f2-b326-115c0a877def",
   "metadata": {},
   "source": [
    "**There Are Duplicate Entries, Thats Why Processing Shows 24749 And Total No Of Files In Folder Are 21430**"
   ]
  },
  {
   "cell_type": "code",
   "execution_count": null,
   "id": "37941285-25ec-4fb5-8699-800b479ebc11",
   "metadata": {},
   "outputs": [],
   "source": []
  },
  {
   "cell_type": "code",
   "execution_count": 19,
   "id": "ccaace70-6f13-4f35-bc9f-251e1b2f9cd2",
   "metadata": {},
   "outputs": [],
   "source": [
    "df['name'].to_csv('names.txt', index=False, header=False)\n",
    "\n",
    "# If you want to specify a different delimiter, like a newline character\n",
    "# df['name'].to_csv('names.txt', index=False, header=False, sep='\\n')"
   ]
  },
  {
   "cell_type": "code",
   "execution_count": null,
   "id": "2acd75ed-cf76-4497-8f40-d557c664dfe3",
   "metadata": {},
   "outputs": [],
   "source": []
  },
  {
   "cell_type": "code",
   "execution_count": null,
   "id": "4f779c93-34ff-4287-8797-2a74c0e98621",
   "metadata": {},
   "outputs": [],
   "source": []
  },
  {
   "cell_type": "code",
   "execution_count": null,
   "id": "7c41a1a3-8d96-4380-8449-50577b89a49a",
   "metadata": {},
   "outputs": [],
   "source": []
  },
  {
   "cell_type": "code",
   "execution_count": null,
   "id": "cc44c544-edd9-4542-925b-727985675051",
   "metadata": {},
   "outputs": [],
   "source": []
  }
 ],
 "metadata": {
  "kernelspec": {
   "display_name": "Python 3 (ipykernel)",
   "language": "python",
   "name": "python3"
  },
  "language_info": {
   "codemirror_mode": {
    "name": "ipython",
    "version": 3
   },
   "file_extension": ".py",
   "mimetype": "text/x-python",
   "name": "python",
   "nbconvert_exporter": "python",
   "pygments_lexer": "ipython3",
   "version": "3.12.2"
  }
 },
 "nbformat": 4,
 "nbformat_minor": 5
}
